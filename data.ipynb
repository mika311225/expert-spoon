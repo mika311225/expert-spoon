{
 "cells": [
  {
   "cell_type": "markdown",
   "id": "02ee4bd7",
   "metadata": {},
   "source": [
    "## 下載檔案"
   ]
  },
  {
   "cell_type": "code",
   "execution_count": 7,
   "id": "153757ef",
   "metadata": {},
   "outputs": [],
   "source": [
    "import re \n",
    "import pandas as pd \n",
    "import pdfplumber as pr\n",
    "import requests\n",
    "# 設置 PDF 檔案的下載鏈接和檔案名稱\n",
    "company_code = \"2317\"\n",
    "year = \"110\"\n",
    "\n",
    "url = \"https://mops.twse.com.tw/server-java/FileDownLoad?step=9&filePath=/home/html/nas/protect/t100/&fileName=t100sa11_\" + company_code + \"_\" + year + \".pdf\"\n",
    "filename = \"t100sa11_\" + company_code + \"_\" + year + \".pdf\"\n",
    "\n",
    "# 發送 GET 請求並下載檔案\n",
    "response = requests.get(url)\n",
    "with open(filename, \"wb\") as f:\n",
    "    f.write(response.content)\n"
   ]
  },
  {
   "cell_type": "markdown",
   "id": "5b12a517",
   "metadata": {},
   "source": [
    "## 另一種擷取方式，先判斷哪幾頁有準則，再擷取那幾頁"
   ]
  },
  {
   "cell_type": "code",
   "execution_count": 2,
   "id": "17a878b1",
   "metadata": {},
   "outputs": [],
   "source": [
    "pdf = pr.open(filename)\n",
    "ps = pdf.pages\n",
    "df_new=[]\n",
    "new_page=[]\n",
    "columns_count = []\n",
    " # 取得總頁數\n",
    "total_pages = len(pdf.pages)\n",
    "# 設定起始頁數\n",
    "start_page = int(total_pages * 0.8)\n",
    "    \n",
    "# 迭代每頁，從設定的起始頁開始\n",
    "for page in pdf.pages[start_page:]:\n",
    "    text = page.extract_text()\n",
    "    if (\"GRI\" and \"頁\" )in text:\n",
    "        new_page.append(page)\n",
    "        for page in new_page:\n",
    "            tables = page.extract_tables()\n",
    "            for df in tables:\n",
    "                df1= pd.DataFrame(df, columns=df[0])\n",
    "                df1=df1.drop_duplicates()\n",
    "                df_new.append(df1) "
   ]
  },
  {
   "cell_type": "code",
   "execution_count": 1,
   "id": "8fbb4da1",
   "metadata": {
    "scrolled": true
   },
   "outputs": [
    {
     "ename": "NameError",
     "evalue": "name 'df_new' is not defined",
     "output_type": "error",
     "traceback": [
      "\u001b[1;31m---------------------------------------------------------------------------\u001b[0m",
      "\u001b[1;31mNameError\u001b[0m                                 Traceback (most recent call last)",
      "Cell \u001b[1;32mIn[1], line 5\u001b[0m\n\u001b[0;32m      2\u001b[0m final\u001b[38;5;241m=\u001b[39m[]\n\u001b[0;32m      3\u001b[0m pattern\u001b[38;5;241m=\u001b[39m\u001b[38;5;124m\"\u001b[39m\u001b[38;5;124m\\\u001b[39m\u001b[38;5;124md\u001b[39m\u001b[38;5;124m{\u001b[39m\u001b[38;5;124m1,3}[\u001b[39m\u001b[38;5;124m\\\u001b[39m\u001b[38;5;124m-－]\u001b[39m\u001b[38;5;124m\\\u001b[39m\u001b[38;5;124md\u001b[39m\u001b[38;5;124m{\u001b[39m\u001b[38;5;124m1,2}\u001b[39m\u001b[38;5;124m\"\u001b[39m\n\u001b[1;32m----> 5\u001b[0m \u001b[38;5;28;01mfor\u001b[39;00m df \u001b[38;5;129;01min\u001b[39;00m \u001b[43mdf_new\u001b[49m:\n\u001b[0;32m      6\u001b[0m     \u001b[38;5;28;01mif\u001b[39;00m df\u001b[38;5;241m.\u001b[39mshape[\u001b[38;5;241m1\u001b[39m] \u001b[38;5;241m>\u001b[39m\u001b[38;5;241m=\u001b[39m \u001b[38;5;241m4\u001b[39m:\n\u001b[0;32m      7\u001b[0m         final\u001b[38;5;241m.\u001b[39mappend(df)\n",
      "\u001b[1;31mNameError\u001b[0m: name 'df_new' is not defined"
     ]
    }
   ],
   "source": [
    "UR=[]\n",
    "final=[]\n",
    "pattern=\"\\d{1,3}[\\-－]\\d{1,2}\"\n",
    "\n",
    "for df in df_new:\n",
    "    if df.shape[1] >= 4:\n",
    "        final.append(df)\n",
    "        for df in final:\n",
    "            # 检查当前DataFrame对象的前两列是否与正则表达式匹配\n",
    "            \n",
    "            col1 = df.iloc[:, 0]\n",
    "            col2 = df.iloc[:, 1]\n",
    "            \n",
    "            matches = col1.str.contains(pattern) | col2.str.contains(pattern)\n",
    "\n",
    "            # 如果至少有一个单元格与正则表达式匹配，则将该DataFrame添加到UR列表中\n",
    "            if matches.any():\n",
    "                UR.append(df)\n",
    "UR"
   ]
  },
  {
   "cell_type": "code",
   "execution_count": null,
   "id": "dfe87712",
   "metadata": {},
   "outputs": [],
   "source": [
    "# 對於每個DataFrame，只保留包含指定模式的列\n",
    "new_df=pd.DataFrame()\n",
    "for df in UR:\n",
    "    pattern = r\"\\d{1,3}[\\-－]\\d{1,2}\"\n",
    "    has_page_condition = lambda x: x.str.contains(\"頁\")\n",
    "    # 使用 str.contains() 方法和 `|` 操作符組合篩選條件\n",
    "    filtered_df = df.loc[:, df.apply(lambda x: x.str.contains(pattern) | has_page_condition(x)).any()]\n",
    "    new_df = pd.concat([new_df, filtered_df], axis=0)"
   ]
  },
  {
   "cell_type": "markdown",
   "id": "02dcf53e",
   "metadata": {},
   "source": [
    "## 輸出表格為.XLSX"
   ]
  },
  {
   "cell_type": "code",
   "execution_count": 12,
   "id": "ce313bc4",
   "metadata": {},
   "outputs": [],
   "source": [
    "new_df=new_df.reset_index(drop=True)\n",
    "new_df=new_df.drop_duplicates()\n",
    "new_df=new_df.rename(columns={new_df.columns[1]:\"pages\"})\n",
    "output_excel=filename+'.xlsx'\n",
    "new_df.to_excel(output_excel,encoding=\"utf-8\")"
   ]
  },
  {
   "cell_type": "markdown",
   "id": "a7023937",
   "metadata": {},
   "source": [
    "## 讀取整理好之excel表格頁碼切割pdf並貼回路徑"
   ]
  },
  {
   "cell_type": "code",
   "execution_count": 4,
   "id": "9d4c3f32",
   "metadata": {},
   "outputs": [],
   "source": [
    "# Read in the Excel file as a dataframe\n",
    "\n",
    "import pandas as pd\n",
    "import numpy as np\n",
    "import openpyxl\n",
    "import os\n",
    "from openpyxl import load_workbook\n",
    "from pdfrw import PdfReader, PdfWriter\n",
    "\n",
    "\n",
    "df = pd.read_excel(output_excel, engine='openpyxl')\n",
    "df\n",
    "\n",
    "# Loop through each row in the DataFrame\n",
    "for i in range(df.shape[0]):\n",
    "    # Split the pages string into individual page numbers\n",
    "    pages = list(map(int, df.loc[i, 'pages'].split(',')))\n",
    "    \n",
    "    # Generate the corresponding PDF file\n",
    "    output_file = os.path.join(\"C:/Users/pojid/Capstone/output\", str(i+1) + '.pdf')\n",
    "    writer = PdfWriter()\n",
    "    for page in pages:\n",
    "        writer.addpage(PdfReader(filename).pages[page-1])\n",
    "    writer.write(output_file)\n",
    "    \n",
    "    # Update the pdf_path column in the DataFrame\n",
    "    df.loc[i, 'pdf_path'] = output_file\n"
   ]
  },
  {
   "cell_type": "code",
   "execution_count": 6,
   "id": "1a7dd508",
   "metadata": {},
   "outputs": [
    {
     "name": "stderr",
     "output_type": "stream",
     "text": [
      "C:\\Users\\pojid\\AppData\\Local\\Temp\\ipykernel_16004\\3778995600.py:8: FutureWarning: save is not part of the public API, usage can give unexpected results and will be removed in a future version\n",
      "  writer.save()\n"
     ]
    }
   ],
   "source": [
    "# create a Pandas Excel writer using OpenPyXL as the engine\n",
    "writer = pd.ExcelWriter(output_excel, engine='openpyxl')\n",
    "\n",
    "# write the DataFrame to the Excel file\n",
    "df.to_excel(writer, index=False)\n",
    "\n",
    "# save the changes to the file\n",
    "writer.save()"
   ]
  },
  {
   "cell_type": "code",
   "execution_count": null,
   "id": "b019af54",
   "metadata": {},
   "outputs": [],
   "source": []
  }
 ],
 "metadata": {
  "kernelspec": {
   "display_name": "Python 3 (ipykernel)",
   "language": "python",
   "name": "python3"
  },
  "language_info": {
   "codemirror_mode": {
    "name": "ipython",
    "version": 3
   },
   "file_extension": ".py",
   "mimetype": "text/x-python",
   "name": "python",
   "nbconvert_exporter": "python",
   "pygments_lexer": "ipython3",
   "version": "3.10.9"
  }
 },
 "nbformat": 4,
 "nbformat_minor": 5
}
